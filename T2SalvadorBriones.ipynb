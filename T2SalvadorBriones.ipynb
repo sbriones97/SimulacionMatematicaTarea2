{
 "cells": [
  {
   "cell_type": "markdown",
   "metadata": {},
   "source": [
    "# Instituto Tecnologico de Estudios Superiores del Occidente"
   ]
  },
  {
   "cell_type": "markdown",
   "metadata": {},
   "source": [
    "![](https://upload.wikimedia.org/wikipedia/en/thumb/5/5f/Western_Institute_of_Technology_and_Higher_Education_logo.png/220px-Western_Institute_of_Technology_and_Higher_Education_logo.png)"
   ]
  },
  {
   "cell_type": "markdown",
   "metadata": {},
   "source": [
    "## Salvador Octavio Briones Martinez  \n",
    "## Is707869  "
   ]
  },
  {
   "cell_type": "markdown",
   "metadata": {},
   "source": [
    "### Estudios  y Profesión\n",
    "1. **Preparatoria:** *Tecnologo en Informatica* egresado del CETI Colomos  \n",
    "2. **Universidad:** Actualmente estudiando en ITESO en la carrera *Sistemas Computacionales* en 7mo Semestre  \n",
    "3. **Mayo 2017 - Febrero 2018:** Trabajo como Soporte Tecnico en la empresa DESA\n",
    "4. **Octubre 2018 - Actual:** Trabajo como DBA en la empresa Geodis"
   ]
  },
  {
   "cell_type": "markdown",
   "metadata": {},
   "source": [
    "### Tecnologias\n",
    "+ C, C++\n",
    "+ Javascript\n",
    "+ PHP\n",
    "+ VBS\n",
    "+ SQL Server, PostgreSQL\n",
    "+ Java"
   ]
  },
  {
   "cell_type": "markdown",
   "metadata": {},
   "source": [
    "#### Resumen 1\n",
    "#### Why Python is so popular with developers: 3 reasons the language has exploded  \n",
    "El lenguaje de programación de Python es muy popular por su facilidad para aprender a programar en este lenguaje y su robustas librerias que permiten al usuario programar más rápido y dinámico. En los últimos años, ha sido un lenguaje de programación que día a día crece según la página Stack Overflow. Python ha tenido un crecimiento enorme y se ha vuelto de uno de los lenguajes de programación más buscados en el último año.  \n",
    "Hay 3 razones principales por el crecimiento de esta tecnología:\n",
    "+ **Fácil de  aprender:** Su sintaxis es fácil de leer y de codificar\n",
    "+ **El crecimiento de la AI y Data Science:** Hoy en día vemos que los analistas de Data Science prefieren usar esta tecnología para sus operaciones y son los principales responsables de que esta tecnología crezca tanto.\n",
    "+ **Comunidad de desarrolladores:** Hay una gran cantidad de desarrolladores que comparten su código y permiten a otros usuarios el uso de estas, facilitando el desarrollo a todos aquellos que lo usan. \n",
    "\n",
    "#### Resumen 2\n",
    "#### Python has brought computer programming to a vast new audience\n",
    "Guido van Rossum decidio crear su propio lenguaje de programación con algunos principios:\n",
    "+ Facil de leer e identación de tabulaciones\n",
    "+ Que los usuarios pudieran crear sus propios módulos y paquetes que pueda ser reutilizable por otros usuarios\n",
    "+ Con un nombre misterioso  \n",
    "Casi 30 años despues, este lenguaje de programación ha tenido tanto exito, siendo un tópico buscado ampliamente en google, y el cual, su creador no esperaba que llegara a pasar."
   ]
  },
  {
   "cell_type": "code",
   "execution_count": null,
   "metadata": {
    "collapsed": true
   },
   "outputs": [],
   "source": []
  }
 ],
 "metadata": {
  "kernelspec": {
   "display_name": "Python 3",
   "language": "python",
   "name": "python3"
  },
  "language_info": {
   "codemirror_mode": {
    "name": "ipython",
    "version": 3
   },
   "file_extension": ".py",
   "mimetype": "text/x-python",
   "name": "python",
   "nbconvert_exporter": "python",
   "pygments_lexer": "ipython3",
   "version": "3.6.2"
  }
 },
 "nbformat": 4,
 "nbformat_minor": 2
}
