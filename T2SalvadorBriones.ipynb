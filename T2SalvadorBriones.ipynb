{
 "cells": [
  {
   "cell_type": "markdown",
   "metadata": {},
   "source": [
    "# Instituto Tecnologico de Estudios Superiores del Occidente"
   ]
  },
  {
   "cell_type": "markdown",
   "metadata": {},
   "source": [
    "![](https://upload.wikimedia.org/wikipedia/en/thumb/5/5f/Western_Institute_of_Technology_and_Higher_Education_logo.png/220px-Western_Institute_of_Technology_and_Higher_Education_logo.png)"
   ]
  },
  {
   "cell_type": "markdown",
   "metadata": {},
   "source": [
    "## Salvador Octavio Briones Martinez  \n",
    "## Is707869  "
   ]
  },
  {
   "cell_type": "markdown",
   "metadata": {},
   "source": [
    "### Estudios  y Profesión\n",
    "1. **Preparatoria:** *Tecnologo en Informatica* egresado del CETI Colomos  \n",
    "2. **Universidad:** Actualmente estudiando en ITESO en la carrera *Sistemas Computacionales* en 7mo Semestre  \n",
    "3. **Mayo 2017 - Febrero 2018:** Trabajo como Soporte Tecnico en la empresa DESA\n",
    "4. **Octubre 2018 - Actual:** Trabajo como DBA en la empresa Geodis"
   ]
  },
  {
   "cell_type": "markdown",
   "metadata": {},
   "source": [
    "### Tecnologias\n",
    "+ C, C++\n",
    "+ Javascript\n",
    "+ PHP\n",
    "+ VBS\n",
    "+ SQL Server, PostgreSQL\n",
    "+ Java"
   ]
  },
  {
   "cell_type": "markdown",
   "metadata": {},
   "source": [
    "#### Resumen 1\n",
    "#### Why Python is so popular with developers: 3 reasons the language has exploded\n",
    "  \n",
    "\n",
    "#### Resumen 2\n",
    "#### Python has brought computer programming to a vast new audience\n",
    "\n"
   ]
  },
  {
   "cell_type": "code",
   "execution_count": null,
   "metadata": {
    "collapsed": true
   },
   "outputs": [],
   "source": []
  }
 ],
 "metadata": {
  "kernelspec": {
   "display_name": "Python 3",
   "language": "python",
   "name": "python3"
  },
  "language_info": {
   "codemirror_mode": {
    "name": "ipython",
    "version": 3
   },
   "file_extension": ".py",
   "mimetype": "text/x-python",
   "name": "python",
   "nbconvert_exporter": "python",
   "pygments_lexer": "ipython3",
   "version": "3.6.2"
  }
 },
 "nbformat": 4,
 "nbformat_minor": 2
}
